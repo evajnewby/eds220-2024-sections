{
 "cells": [
  {
   "cell_type": "markdown",
   "id": "04024db2-5218-4b9a-961e-09ec1cc812d1",
   "metadata": {},
   "source": [
    "Description of dataset:\n",
    "\n",
    "\n",
    "\n",
    "citation: Kielland, K., F.S. Chapin, R.W. Ruess, and Bonanza Creek LTER. 2017. Snowshoe hare physical data in Bonanza Creek Experimental Forest: 1999-Present ver 22. Environmental Data Initiative. https://doi.org/10.6073/pasta/03dce4856d79b91557d8e6ce2cbcdc14 (Accessed 2024-10-16)."
   ]
  },
  {
   "cell_type": "markdown",
   "id": "141eac58-671f-45e7-a65c-55fdfb2bc808",
   "metadata": {},
   "source": [
    "![Snowshoe Hare, Photographs by Alan Schmierer](https://upload.wikimedia.org/wikipedia/commons/8/8a/SNOWSHOE_HARE_%28Lepus_americanus%29_%285-28-2015%29_quoddy_head%2C_washington_co%2C_maine_-01_%2818988734889%29.jpg)"
   ]
  },
  {
   "cell_type": "code",
   "execution_count": 1,
   "id": "615fcd94-4d3b-4d20-bd2b-c0c2b7abfb85",
   "metadata": {
    "tags": []
   },
   "outputs": [],
   "source": [
    "import pandas as pd\n",
    "import numpy as np"
   ]
  },
  {
   "cell_type": "code",
   "execution_count": null,
   "id": "cda634eb-d89b-4242-80ee-1ac6d64a65dd",
   "metadata": {},
   "outputs": [],
   "source": [
    "hares = pd.read_csv('https://portal.edirepository.org/nis/dataviewer?packageid=knb-lter-bnz.55.22&entityid=f01f5d71be949b8c700b6ecd1c42c701')"
   ]
  },
  {
   "cell_type": "code",
   "execution_count": 5,
   "id": "8f7c4562-4efe-4134-9e98-25352fc9638d",
   "metadata": {
    "tags": []
   },
   "outputs": [
    {
     "data": {
      "text/html": [
       "<div>\n",
       "<style scoped>\n",
       "    .dataframe tbody tr th:only-of-type {\n",
       "        vertical-align: middle;\n",
       "    }\n",
       "\n",
       "    .dataframe tbody tr th {\n",
       "        vertical-align: top;\n",
       "    }\n",
       "\n",
       "    .dataframe thead th {\n",
       "        text-align: right;\n",
       "    }\n",
       "</style>\n",
       "<table border=\"1\" class=\"dataframe\">\n",
       "  <thead>\n",
       "    <tr style=\"text-align: right;\">\n",
       "      <th></th>\n",
       "      <th>date</th>\n",
       "      <th>time</th>\n",
       "      <th>grid</th>\n",
       "      <th>trap</th>\n",
       "      <th>l_ear</th>\n",
       "      <th>r_ear</th>\n",
       "      <th>sex</th>\n",
       "      <th>age</th>\n",
       "      <th>weight</th>\n",
       "      <th>hindft</th>\n",
       "      <th>notes</th>\n",
       "      <th>b_key</th>\n",
       "      <th>session_id</th>\n",
       "      <th>study</th>\n",
       "    </tr>\n",
       "  </thead>\n",
       "  <tbody>\n",
       "    <tr>\n",
       "      <th>0</th>\n",
       "      <td>11/26/1998</td>\n",
       "      <td>NaN</td>\n",
       "      <td>bonrip</td>\n",
       "      <td>1A</td>\n",
       "      <td>414D096A08</td>\n",
       "      <td>NaN</td>\n",
       "      <td>NaN</td>\n",
       "      <td>NaN</td>\n",
       "      <td>1370.0</td>\n",
       "      <td>160.0</td>\n",
       "      <td>NaN</td>\n",
       "      <td>917.0</td>\n",
       "      <td>51</td>\n",
       "      <td>Population</td>\n",
       "    </tr>\n",
       "    <tr>\n",
       "      <th>1</th>\n",
       "      <td>11/26/1998</td>\n",
       "      <td>NaN</td>\n",
       "      <td>bonrip</td>\n",
       "      <td>2C</td>\n",
       "      <td>414D320671</td>\n",
       "      <td>NaN</td>\n",
       "      <td>M</td>\n",
       "      <td>NaN</td>\n",
       "      <td>1430.0</td>\n",
       "      <td>NaN</td>\n",
       "      <td>NaN</td>\n",
       "      <td>936.0</td>\n",
       "      <td>51</td>\n",
       "      <td>Population</td>\n",
       "    </tr>\n",
       "    <tr>\n",
       "      <th>2</th>\n",
       "      <td>11/26/1998</td>\n",
       "      <td>NaN</td>\n",
       "      <td>bonrip</td>\n",
       "      <td>2D</td>\n",
       "      <td>414D103E3A</td>\n",
       "      <td>NaN</td>\n",
       "      <td>M</td>\n",
       "      <td>NaN</td>\n",
       "      <td>1430.0</td>\n",
       "      <td>NaN</td>\n",
       "      <td>NaN</td>\n",
       "      <td>921.0</td>\n",
       "      <td>51</td>\n",
       "      <td>Population</td>\n",
       "    </tr>\n",
       "    <tr>\n",
       "      <th>3</th>\n",
       "      <td>11/26/1998</td>\n",
       "      <td>NaN</td>\n",
       "      <td>bonrip</td>\n",
       "      <td>2E</td>\n",
       "      <td>414D262D43</td>\n",
       "      <td>NaN</td>\n",
       "      <td>NaN</td>\n",
       "      <td>NaN</td>\n",
       "      <td>1490.0</td>\n",
       "      <td>135.0</td>\n",
       "      <td>NaN</td>\n",
       "      <td>931.0</td>\n",
       "      <td>51</td>\n",
       "      <td>Population</td>\n",
       "    </tr>\n",
       "    <tr>\n",
       "      <th>4</th>\n",
       "      <td>11/26/1998</td>\n",
       "      <td>NaN</td>\n",
       "      <td>bonrip</td>\n",
       "      <td>3B</td>\n",
       "      <td>414D2B4B58</td>\n",
       "      <td>NaN</td>\n",
       "      <td>NaN</td>\n",
       "      <td>NaN</td>\n",
       "      <td>1710.0</td>\n",
       "      <td>150.0</td>\n",
       "      <td>NaN</td>\n",
       "      <td>933.0</td>\n",
       "      <td>51</td>\n",
       "      <td>Population</td>\n",
       "    </tr>\n",
       "  </tbody>\n",
       "</table>\n",
       "</div>"
      ],
      "text/plain": [
       "         date time    grid trap       l_ear r_ear  sex  age  weight  hindft  \\\n",
       "0  11/26/1998  NaN  bonrip   1A  414D096A08   NaN  NaN  NaN  1370.0   160.0   \n",
       "1  11/26/1998  NaN  bonrip   2C  414D320671   NaN    M  NaN  1430.0     NaN   \n",
       "2  11/26/1998  NaN  bonrip   2D  414D103E3A   NaN    M  NaN  1430.0     NaN   \n",
       "3  11/26/1998  NaN  bonrip   2E  414D262D43   NaN  NaN  NaN  1490.0   135.0   \n",
       "4  11/26/1998  NaN  bonrip   3B  414D2B4B58   NaN  NaN  NaN  1710.0   150.0   \n",
       "\n",
       "  notes  b_key  session_id       study  \n",
       "0   NaN  917.0          51  Population  \n",
       "1   NaN  936.0          51  Population  \n",
       "2   NaN  921.0          51  Population  \n",
       "3   NaN  931.0          51  Population  \n",
       "4   NaN  933.0          51  Population  "
      ]
     },
     "execution_count": 5,
     "metadata": {},
     "output_type": "execute_result"
    }
   ],
   "source": [
    "hares.head()"
   ]
  },
  {
   "cell_type": "code",
   "execution_count": 7,
   "id": "35c8258b-705b-49fa-ba92-ae5da3c1353c",
   "metadata": {
    "tags": []
   },
   "outputs": [
    {
     "data": {
      "text/plain": [
       "(3380, 14)"
      ]
     },
     "execution_count": 7,
     "metadata": {},
     "output_type": "execute_result"
    }
   ],
   "source": [
    "# Dimensions\n",
    "hares.shape"
   ]
  },
  {
   "cell_type": "code",
   "execution_count": 11,
   "id": "a019db52-c018-409d-b3ef-b261c8678e62",
   "metadata": {
    "tags": []
   },
   "outputs": [
    {
     "name": "stdout",
     "output_type": "stream",
     "text": [
      "<class 'pandas.core.frame.DataFrame'>\n",
      "RangeIndex: 3380 entries, 0 to 3379\n",
      "Data columns (total 14 columns):\n",
      " #   Column      Non-Null Count  Dtype  \n",
      "---  ------      --------------  -----  \n",
      " 0   date        3380 non-null   object \n",
      " 1   time        264 non-null    object \n",
      " 2   grid        3380 non-null   object \n",
      " 3   trap        3368 non-null   object \n",
      " 4   l_ear       3332 non-null   object \n",
      " 5   r_ear       3211 non-null   object \n",
      " 6   sex         3028 non-null   object \n",
      " 7   age         1269 non-null   object \n",
      " 8   weight      2845 non-null   float64\n",
      " 9   hindft      1633 non-null   float64\n",
      " 10  notes       243 non-null    object \n",
      " 11  b_key       3333 non-null   float64\n",
      " 12  session_id  3380 non-null   int64  \n",
      " 13  study       3217 non-null   object \n",
      "dtypes: float64(3), int64(1), object(10)\n",
      "memory usage: 369.8+ KB\n"
     ]
    },
    {
     "data": {
      "text/plain": [
       "date             0\n",
       "time          3116\n",
       "grid             0\n",
       "trap            12\n",
       "l_ear           48\n",
       "r_ear          169\n",
       "sex            352\n",
       "age           2111\n",
       "weight         535\n",
       "hindft        1747\n",
       "notes         3137\n",
       "b_key           47\n",
       "session_id       0\n",
       "study          163\n",
       "dtype: int64"
      ]
     },
     "execution_count": 11,
     "metadata": {},
     "output_type": "execute_result"
    }
   ],
   "source": [
    "# NA values\n",
    "\n",
    "hares.info()\n",
    "\n",
    "hares.isna().sum()"
   ]
  },
  {
   "cell_type": "code",
   "execution_count": 18,
   "id": "f6d376f7-0606-42ef-a30a-5ac841ff58da",
   "metadata": {
    "tags": []
   },
   "outputs": [
    {
     "data": {
      "text/plain": [
       "<bound method NDFrame._add_numeric_operations.<locals>.min of             date      time    grid trap       l_ear r_ear  sex  age  weight  \\\n",
       "0     11/26/1998       NaN  bonrip   1A  414D096A08   NaN  NaN  NaN  1370.0   \n",
       "1     11/26/1998       NaN  bonrip   2C  414D320671   NaN    M  NaN  1430.0   \n",
       "2     11/26/1998       NaN  bonrip   2D  414D103E3A   NaN    M  NaN  1430.0   \n",
       "3     11/26/1998       NaN  bonrip   2E  414D262D43   NaN  NaN  NaN  1490.0   \n",
       "4     11/26/1998       NaN  bonrip   3B  414D2B4B58   NaN  NaN  NaN  1710.0   \n",
       "...          ...       ...     ...  ...         ...   ...  ...  ...     ...   \n",
       "3375    8/8/2002  18:00:00  bonrip  1b         1201  1202  NaN  NaN  1400.0   \n",
       "3376    8/8/2002   6:00:00  bonrip  4b         1201  1202  NaN  NaN     NaN   \n",
       "3377    8/7/2002       NaN  bonrip   4b        1217  1218  NaN  NaN  1000.0   \n",
       "3378    8/8/2002       NaN  bonrip   6d        1217  1218  NaN  NaN   990.0   \n",
       "3379    8/6/2002       NaN  bonrip   4b        1058  1060    M  NaN  1460.0   \n",
       "\n",
       "      hindft notes  b_key  session_id       study  \n",
       "0      160.0   NaN  917.0          51  Population  \n",
       "1        NaN   NaN  936.0          51  Population  \n",
       "2        NaN   NaN  921.0          51  Population  \n",
       "3      135.0   NaN  931.0          51  Population  \n",
       "4      150.0   NaN  933.0          51  Population  \n",
       "...      ...   ...    ...         ...         ...  \n",
       "3375     NaN   NaN   63.0          64  Population  \n",
       "3376     NaN   NaN   63.0          64  Population  \n",
       "3377   134.0   NaN   69.0          64  Population  \n",
       "3378     NaN   NaN   69.0          64  Population  \n",
       "3379   119.0   NaN   32.0          64  Population  \n",
       "\n",
       "[3380 rows x 14 columns]>"
      ]
     },
     "execution_count": 18,
     "metadata": {},
     "output_type": "execute_result"
    }
   ],
   "source": [
    "# Minimum and Maximum values\n",
    "\n",
    "hares.max\n",
    "\n",
    "hares.min"
   ]
  },
  {
   "cell_type": "code",
   "execution_count": 15,
   "id": "bf7cc568-2fd9-41c6-9a0f-a9060834a602",
   "metadata": {
    "tags": []
   },
   "outputs": [
    {
     "data": {
      "text/plain": [
       "date           256\n",
       "time           165\n",
       "grid             5\n",
       "trap           121\n",
       "l_ear         1020\n",
       "r_ear          963\n",
       "sex             12\n",
       "age             30\n",
       "weight         266\n",
       "hindft          90\n",
       "notes          118\n",
       "b_key         1026\n",
       "session_id     113\n",
       "study            4\n",
       "dtype: int64"
      ]
     },
     "execution_count": 15,
     "metadata": {},
     "output_type": "execute_result"
    }
   ],
   "source": [
    "# Unique values\n",
    "hares.nunique()"
   ]
  },
  {
   "cell_type": "markdown",
   "id": "5a9b9309-faa5-435a-bad6-75f6137e9fc3",
   "metadata": {},
   "source": [
    "## 4. Detecting messy values\n",
    "\n",
    "In the metadata section of the EDI repository, find which are the allowed values for the hares’ sex. Create a small table in a markdown cell showing the values and their definitions.\n",
    "Get the number of times each unique sex non-NA value appears.\n",
    "Check the documentation of value_counts(). What is the purpose of the dropna parameter and what is its default value? Repeat step (a), this time adding the dropna=False parameter to value_counts().\n",
    "\n",
    "Discuss with your team the output of the unique value counts. In particular:\n",
    "\n",
    "Do the values in the sex column correspond to the values declared in the metadata?\n",
    "What could have been potential causes for multiple codes?\n",
    "Are there seemingly repated values? If so, what could be the cause?\n",
    "Write code to confirm your suspicions about c-iii."
   ]
  },
  {
   "cell_type": "markdown",
   "id": "3763caca-9692-442f-be04-09fecd44a92d",
   "metadata": {},
   "source": [
    "\n",
    "\n",
    "| Code   | Description          |\n",
    "| -------| ---------------------|\n",
    "| m      | male                 |\n",
    "| f      | female               |\n",
    "| m?     | male not confirmed   |\n",
    "| f?     | female not confirmed |"
   ]
  },
  {
   "cell_type": "code",
   "execution_count": 19,
   "id": "0615fbae-e01a-4234-ab42-1e177bfab38d",
   "metadata": {
    "tags": []
   },
   "outputs": [
    {
     "data": {
      "text/plain": [
       "F     1161\n",
       "M      730\n",
       "f      556\n",
       "m      515\n",
       "?       40\n",
       "F?      10\n",
       "f        4\n",
       "m        4\n",
       "f?       3\n",
       "M?       2\n",
       "m?       2\n",
       "pf       1\n",
       "Name: sex, dtype: int64"
      ]
     },
     "execution_count": 19,
     "metadata": {},
     "output_type": "execute_result"
    }
   ],
   "source": [
    "# Get the number of times each unique sex non-NA value appears. \n",
    "hares['sex'].value_counts()"
   ]
  },
  {
   "cell_type": "code",
   "execution_count": 20,
   "id": "bab23391-6fb1-4fc8-9996-bb5dd73ded7b",
   "metadata": {
    "tags": []
   },
   "outputs": [
    {
     "data": {
      "text/plain": [
       "F      1161\n",
       "M       730\n",
       "f       556\n",
       "m       515\n",
       "NaN     352\n",
       "?        40\n",
       "F?       10\n",
       "f         4\n",
       "m         4\n",
       "f?        3\n",
       "M?        2\n",
       "m?        2\n",
       "pf        1\n",
       "Name: sex, dtype: int64"
      ]
     },
     "execution_count": 20,
     "metadata": {},
     "output_type": "execute_result"
    }
   ],
   "source": [
    "# Include NAs\n",
    "hares['sex'].value_counts(dropna=False)"
   ]
  },
  {
   "cell_type": "markdown",
   "id": "f29c68f6-2b54-47da-8b8e-9219b2108e94",
   "metadata": {},
   "source": [
    "There are repeating values, likely due to mismatching syntax, capitalization, etc..."
   ]
  },
  {
   "cell_type": "code",
   "execution_count": null,
   "id": "786a0447-69d6-4baa-a10f-7dd6d0bf63f0",
   "metadata": {},
   "outputs": [],
   "source": [
    "# Write code to confirm, not sure how to confirm."
   ]
  },
  {
   "cell_type": "markdown",
   "id": "52e3e763-8e3f-475f-9635-2f77c9e1f0fa",
   "metadata": {},
   "source": [
    "## 5. Brainstorm/ 6. Clean Values"
   ]
  },
  {
   "cell_type": "markdown",
   "id": "4cc7a3f2-9ad3-49f5-961e-2852367a08bc",
   "metadata": {},
   "source": [
    "- Female denotes: F, f, F?, f?, and pf\n",
    "- Male denotes: M, m, M?, and m?\n",
    "- NA denotes: NaN, and ?\n",
    "\n",
    "Also need to strip the white space so that only the single letter(s) remain"
   ]
  },
  {
   "cell_type": "code",
   "execution_count": 23,
   "id": "580782a4-41a9-47ce-a9cb-c41ee93161aa",
   "metadata": {
    "tags": []
   },
   "outputs": [
    {
     "name": "stdout",
     "output_type": "stream",
     "text": [
      "0        nan\n",
      "1       male\n",
      "2       male\n",
      "3        nan\n",
      "4        nan\n",
      "        ... \n",
      "3375     nan\n",
      "3376     nan\n",
      "3377     nan\n",
      "3378     nan\n",
      "3379    male\n",
      "Name: sex_simple, Length: 3380, dtype: object\n"
     ]
    }
   ],
   "source": [
    "conditions=[hares ['sex'].isin(['F', 'f', 'f ']),\n",
    "           hares['sex'].isin(['M', 'm', 'm '])]\n",
    "\n",
    "gender = ['female', 'male']\n",
    "\n",
    "hares['sex_simple']=np.select(conditions, gender, default = np.nan)\n",
    "\n",
    "print(hares['sex_simple'])"
   ]
  },
  {
   "cell_type": "markdown",
   "id": "fbc79d46-29a0-45ff-9253-d277590c5273",
   "metadata": {},
   "source": [
    "## 7. Calculate Mean Weight"
   ]
  },
  {
   "cell_type": "code",
   "execution_count": 24,
   "id": "82955671-2455-4942-b8a9-0a9834119bec",
   "metadata": {
    "tags": []
   },
   "outputs": [
    {
     "data": {
      "text/plain": [
       "sex_simple\n",
       "female    1365.164792\n",
       "male      1349.935542\n",
       "nan       1193.364055\n",
       "Name: weight, dtype: float64"
      ]
     },
     "execution_count": 24,
     "metadata": {},
     "output_type": "execute_result"
    }
   ],
   "source": [
    "hares.groupby('sex_simple').weight.mean()"
   ]
  },
  {
   "cell_type": "markdown",
   "id": "3ffb3a02-0fd7-403c-bfa0-0940a1a24cc7",
   "metadata": {},
   "source": [
    "## 8. Collect Code and Streamline Results"
   ]
  },
  {
   "cell_type": "markdown",
   "id": "03e63ed5-e8eb-4217-ab1d-0f36bd3dd628",
   "metadata": {},
   "source": [
    "don't include checks, only do the code that directly yields to something "
   ]
  },
  {
   "cell_type": "code",
   "execution_count": null,
   "id": "4226ddae-87e7-42a1-8360-2e342e53d770",
   "metadata": {},
   "outputs": [],
   "source": []
  }
 ],
 "metadata": {
  "kernelspec": {
   "display_name": "Anaconda 3 (Base)",
   "language": "python",
   "name": "base"
  },
  "language_info": {
   "codemirror_mode": {
    "name": "ipython",
    "version": 3
   },
   "file_extension": ".py",
   "mimetype": "text/x-python",
   "name": "python",
   "nbconvert_exporter": "python",
   "pygments_lexer": "ipython3",
   "version": "3.9.13"
  }
 },
 "nbformat": 4,
 "nbformat_minor": 5
}
