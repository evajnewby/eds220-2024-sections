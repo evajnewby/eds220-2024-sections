{
 "cells": [
  {
   "cell_type": "code",
   "execution_count": 2,
   "id": "cac41d29-9197-4f46-ba7d-52b073c77849",
   "metadata": {
    "tags": []
   },
   "outputs": [],
   "source": [
    "import pandas as pd\n",
    "import geopandas as gpd\n",
    "import numpy as np\n",
    "import os"
   ]
  },
  {
   "cell_type": "code",
   "execution_count": 9,
   "id": "be6b9426-e328-4b0d-a004-2f8c5c2aac9f",
   "metadata": {
    "tags": []
   },
   "outputs": [],
   "source": [
    "# Read in the data\n",
    "filepath = \"/Users/ejnewby/MEDS/EDS-220/eds220-2024-sections/data/earthquake_data.csv\"\n",
    "earthquakes = pd.read_csv(filepath)"
   ]
  },
  {
   "cell_type": "code",
   "execution_count": 8,
   "id": "63bc7781-6d79-4bbe-a8b4-cf240253054a",
   "metadata": {
    "tags": []
   },
   "outputs": [
    {
     "data": {
      "text/plain": [
       "'/Users/ejnewby/MEDS/EDS-220/eds220-2024-sections'"
      ]
     },
     "execution_count": 8,
     "metadata": {},
     "output_type": "execute_result"
    }
   ],
   "source": [
    "os.getcwd()"
   ]
  },
  {
   "cell_type": "code",
   "execution_count": 10,
   "id": "bf0b0b97-13be-4f71-affc-5dfb3e35c328",
   "metadata": {
    "tags": []
   },
   "outputs": [],
   "source": [
    "# Read in other data\n",
    "countries = os.path.join('/Users/ejnewby/MEDS/EDS-220/eds220-2024-sections/data/ne_110m_admin_0_countries[1].shp')"
   ]
  },
  {
   "cell_type": "code",
   "execution_count": null,
   "id": "ba7a42d5-1122-423b-b36f-5893dbb65a70",
   "metadata": {},
   "outputs": [],
   "source": []
  }
 ],
 "metadata": {
  "kernelspec": {
   "display_name": "Anaconda 3 (EDS220)",
   "language": "python",
   "name": "eds220-env"
  },
  "language_info": {
   "codemirror_mode": {
    "name": "ipython",
    "version": 3
   },
   "file_extension": ".py",
   "mimetype": "text/x-python",
   "name": "python",
   "nbconvert_exporter": "python",
   "pygments_lexer": "ipython3",
   "version": "3.11.4"
  }
 },
 "nbformat": 4,
 "nbformat_minor": 5
}
